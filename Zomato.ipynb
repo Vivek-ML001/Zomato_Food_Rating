{
  "nbformat": 4,
  "nbformat_minor": 0,
  "metadata": {
    "colab": {
      "provenance": [],
      "authorship_tag": "ABX9TyO0L0BMXmJeFdHIoucfDQhC",
      "include_colab_link": true
    },
    "kernelspec": {
      "name": "python3",
      "display_name": "Python 3"
    },
    "language_info": {
      "name": "python"
    }
  },
  "cells": [
    {
      "cell_type": "markdown",
      "metadata": {
        "id": "view-in-github",
        "colab_type": "text"
      },
      "source": [
        "<a href=\"https://colab.research.google.com/github/Vivek-ML001/Zomato_Food_Rating/blob/main/Zomato.ipynb\" target=\"_parent\"><img src=\"https://colab.research.google.com/assets/colab-badge.svg\" alt=\"Open In Colab\"/></a>"
      ]
    },
    {
      "cell_type": "markdown",
      "source": [
        "# import"
      ],
      "metadata": {
        "id": "Fs1PwXYOSpud"
      }
    },
    {
      "cell_type": "code",
      "execution_count": null,
      "metadata": {
        "id": "qIclUB71SRwb"
      },
      "outputs": [],
      "source": [
        "import pandas as pd\n",
        "import numpy as np\n",
        "import matplotlib.pyplot as plt\n",
        "import seaborn as sns"
      ]
    },
    {
      "cell_type": "code",
      "source": [
        "import pandas as pd\n",
        "from sklearn.ensemble import RandomForestRegressor\n",
        "from sklearn.model_selection import train_test_split\n",
        "from sklearn.metrics import mean_absolute_error, r2_score"
      ],
      "metadata": {
        "id": "CZ2nFPV8UVJy"
      },
      "execution_count": null,
      "outputs": []
    },
    {
      "cell_type": "code",
      "source": [
        "df = pd.read_csv('/content/zomato.csv', encoding='latin1')\n",
        "df.head()"
      ],
      "metadata": {
        "id": "sjNxXwW7Sw9r"
      },
      "execution_count": null,
      "outputs": []
    },
    {
      "cell_type": "code",
      "source": [
        "df.shape"
      ],
      "metadata": {
        "id": "e6KqHGryTj35"
      },
      "execution_count": null,
      "outputs": []
    },
    {
      "cell_type": "code",
      "source": [
        "df.info()"
      ],
      "metadata": {
        "id": "BpdaUGnKT5-h"
      },
      "execution_count": null,
      "outputs": []
    },
    {
      "cell_type": "code",
      "source": [
        "df.isnull().sum()"
      ],
      "metadata": {
        "id": "xzAULcVJT8IZ"
      },
      "execution_count": null,
      "outputs": []
    },
    {
      "cell_type": "code",
      "source": [
        "df.duplicated().sum()"
      ],
      "metadata": {
        "id": "q9Jev02eUBO5"
      },
      "execution_count": null,
      "outputs": []
    },
    {
      "cell_type": "code",
      "source": [
        "df.describe()"
      ],
      "metadata": {
        "id": "8r_GkVhFUL75"
      },
      "execution_count": null,
      "outputs": []
    },
    {
      "cell_type": "code",
      "source": [
        "# Handle missing values by dropping rows where 'Cuisines' is not present\n",
        "df.dropna(subset=['Cuisines'], inplace=True)"
      ],
      "metadata": {
        "id": "gxTpLlRzVoBB"
      },
      "execution_count": null,
      "outputs": []
    },
    {
      "cell_type": "code",
      "source": [
        "df.head()"
      ],
      "metadata": {
        "id": "CkH9QruLVt-Z"
      },
      "execution_count": null,
      "outputs": []
    },
    {
      "cell_type": "code",
      "source": [
        "df.isnull().sum()"
      ],
      "metadata": {
        "id": "CVXhNc8KWIoK"
      },
      "execution_count": null,
      "outputs": []
    },
    {
      "cell_type": "code",
      "source": [
        "# Simplify the 'Cuisines' column by taking only the first cuisine listed\n",
        "df['Cuisines'] = df['Cuisines'].apply(lambda x: x.split(',')[0])"
      ],
      "metadata": {
        "id": "p5S4JWiTWOnp"
      },
      "execution_count": null,
      "outputs": []
    },
    {
      "cell_type": "code",
      "source": [
        "# Convert 'Yes'/'No' columns to 1s and 0s for the model\n",
        "df['Has Table booking'] = df['Has Table booking'].replace({'Yes': 1, 'No': 0})\n",
        "df['Has Online delivery'] = df['Has Online delivery'].replace({'Yes': 1, 'No': 0})"
      ],
      "metadata": {
        "id": "mXw1DDNHWTHZ"
      },
      "execution_count": null,
      "outputs": []
    },
    {
      "cell_type": "code",
      "source": [
        "df.head()"
      ],
      "metadata": {
        "id": "Aac5_d3mWl7J"
      },
      "execution_count": null,
      "outputs": []
    },
    {
      "cell_type": "code",
      "source": [
        "# Use one-hot encoding to convert the 'Cuisines' column into a numerical format\n",
        "cuisines_dummies = pd.get_dummies(df['Cuisines'], prefix='Cuisine')\n",
        "df = pd.concat([df, cuisines_dummies], axis=1)"
      ],
      "metadata": {
        "id": "2gAKfV5yWpLh"
      },
      "execution_count": null,
      "outputs": []
    },
    {
      "cell_type": "code",
      "source": [
        "df.head()"
      ],
      "metadata": {
        "id": "o7EBW25wW2th"
      },
      "execution_count": null,
      "outputs": []
    },
    {
      "cell_type": "markdown",
      "source": [
        "# Distribution of Restaurant Ratings"
      ],
      "metadata": {
        "id": "UeI-OLa0XdxS"
      }
    },
    {
      "cell_type": "code",
      "source": [],
      "metadata": {
        "id": "uZjF1X3OXgYi"
      },
      "execution_count": null,
      "outputs": []
    },
    {
      "cell_type": "code",
      "metadata": {
        "id": "b0c8e9da"
      },
      "source": [
        "plt.figure(figsize=(10, 6))\n",
        "sns.histplot(df['Aggregate rating'], kde=True, bins=20)\n",
        "plt.title('Distribution of Aggregate Restaurant Ratings')\n",
        "plt.xlabel('Aggregate Rating')\n",
        "plt.ylabel('Number of Restaurants')\n",
        "plt.show()"
      ],
      "execution_count": null,
      "outputs": []
    },
    {
      "cell_type": "code",
      "metadata": {
        "id": "a0eaa9ab"
      },
      "source": [
        "plt.figure(figsize=(8, 6))\n",
        "sns.boxplot(x='Has Online delivery', y='Aggregate rating', data=df)\n",
        "plt.title('Aggregate Rating vs. Online Delivery')\n",
        "plt.xlabel('Has Online Delivery (0: No, 1: Yes)')\n",
        "plt.ylabel('Aggregate Rating')\n",
        "plt.xticks([0, 1], ['No Online Delivery', 'Online Delivery'])\n",
        "plt.show()"
      ],
      "execution_count": null,
      "outputs": []
    },
    {
      "cell_type": "code",
      "metadata": {
        "id": "ec619992"
      },
      "source": [
        "plt.figure(figsize=(10, 6))\n",
        "sns.scatterplot(x='Average Cost for two', y='Aggregate rating', data=df)\n",
        "plt.title('Aggregate Rating vs. Average Cost for two')\n",
        "plt.xlabel('Average Cost for two')\n",
        "plt.ylabel('Aggregate Rating')\n",
        "plt.show()"
      ],
      "execution_count": null,
      "outputs": []
    },
    {
      "cell_type": "code",
      "source": [],
      "metadata": {
        "id": "FZv7z6HyYwsy"
      },
      "execution_count": null,
      "outputs": []
    },
    {
      "cell_type": "code",
      "metadata": {
        "id": "84070558"
      },
      "source": [
        "# Get the value counts of the 'Cuisines' column\n",
        "cuisine_counts = df['Cuisines'].value_counts()\n",
        "\n",
        "# Display the top 10 most popular cuisines\n",
        "print(\"Top 10 Most Popular Cuisines:\")\n",
        "display(cuisine_counts.head(10))"
      ],
      "execution_count": null,
      "outputs": []
    },
    {
      "cell_type": "code",
      "metadata": {
        "id": "a319345d"
      },
      "source": [
        "plt.figure(figsize=(12, 7))\n",
        "cuisine_counts.head(10).plot(kind='bar')\n",
        "plt.title('Top 10 Most Popular Cuisines')\n",
        "plt.xlabel('Cuisine')\n",
        "plt.ylabel('Number of Restaurants')\n",
        "plt.xticks(rotation=45, ha='right')\n",
        "plt.tight_layout()\n",
        "plt.show()"
      ],
      "execution_count": null,
      "outputs": []
    },
    {
      "cell_type": "code",
      "metadata": {
        "id": "d8830aa2"
      },
      "source": [
        "rating_category_counts = df['Rating text'].value_counts()\n",
        "print(\"Number of Restaurants in Each Rating Category:\")\n",
        "display(rating_category_counts)"
      ],
      "execution_count": null,
      "outputs": []
    },
    {
      "cell_type": "code",
      "metadata": {
        "id": "59fadf21"
      },
      "source": [
        "plt.figure(figsize=(10, 6))\n",
        "rating_category_counts.plot(kind='bar')\n",
        "plt.title('Number of Restaurants by Rating Category')\n",
        "plt.xlabel('Rating Category')\n",
        "plt.ylabel('Number of Restaurants')\n",
        "plt.xticks(rotation=45, ha='right')\n",
        "plt.tight_layout()\n",
        "plt.show()"
      ],
      "execution_count": null,
      "outputs": []
    },
    {
      "cell_type": "code",
      "metadata": {
        "id": "c9413c9c"
      },
      "source": [
        "not_rated_restaurants = df[df['Rating text'] == 'Not rated']\n",
        "display(not_rated_restaurants.head())\n",
        "print(f\"\\nNumber of restaurants in 'Not rated' category: {len(not_rated_restaurants)}\")"
      ],
      "execution_count": null,
      "outputs": []
    },
    {
      "cell_type": "code",
      "source": [
        "df.tail()"
      ],
      "metadata": {
        "id": "vmgKMFIEaKTR"
      },
      "execution_count": null,
      "outputs": []
    },
    {
      "cell_type": "markdown",
      "source": [
        "# . Defining Features (Inputs) and Target (Output)"
      ],
      "metadata": {
        "id": "x7N0jHYvaVYo"
      }
    },
    {
      "cell_type": "code",
      "source": [
        "# Define the features (inputs) and the target (output) for the model\n",
        "features = ['Average Cost for two', 'Votes', 'Price range', 'Has Table booking', 'Has Online delivery'] + list(cuisines_dummies.columns)\n",
        "target = 'Aggregate rating'"
      ],
      "metadata": {
        "id": "qa_COYYOaMWM"
      },
      "execution_count": null,
      "outputs": []
    },
    {
      "cell_type": "code",
      "source": [
        "X = df[features]\n",
        "y = df[target]"
      ],
      "metadata": {
        "id": "jGyUFgMtaZfj"
      },
      "execution_count": null,
      "outputs": []
    },
    {
      "cell_type": "code",
      "source": [
        "# Split the data into a training set (80%) and a testing set (20%)\n",
        "X_train, X_test, y_train, y_test = train_test_split(X, y, test_size=0.2, random_state=42)"
      ],
      "metadata": {
        "id": "PRlV9yM4agzM"
      },
      "execution_count": null,
      "outputs": []
    },
    {
      "cell_type": "markdown",
      "source": [
        "\n",
        "# Train and Evaluate the Model ---"
      ],
      "metadata": {
        "id": "E8SULGUgayFi"
      }
    },
    {
      "cell_type": "code",
      "source": [
        "# Initialize the Random Forest Regressor model\n",
        "model = RandomForestRegressor(n_estimators=100, random_state=42, n_jobs=-1)"
      ],
      "metadata": {
        "id": "lNtgnm4Ia5sx"
      },
      "execution_count": null,
      "outputs": []
    },
    {
      "cell_type": "code",
      "source": [
        "# Train the model on the training data\n",
        "model.fit(X_train, y_train)"
      ],
      "metadata": {
        "id": "F3fbj46ubDyp"
      },
      "execution_count": null,
      "outputs": []
    },
    {
      "cell_type": "code",
      "source": [
        "# Use the trained model to make predictions on the test data\n",
        "y_pred = model.predict(X_test)"
      ],
      "metadata": {
        "id": "ntkWbLLzbIAy"
      },
      "execution_count": null,
      "outputs": []
    },
    {
      "cell_type": "markdown",
      "source": [
        "# # Calculate the model's performance metrics"
      ],
      "metadata": {
        "id": "xwZPq7UgfJ1L"
      }
    },
    {
      "cell_type": "code",
      "source": [
        "mae = mean_absolute_error(y_test, y_pred)\n",
        "r2 = r2_score(y_test, y_pred)"
      ],
      "metadata": {
        "id": "XCqvaeXPbLBa"
      },
      "execution_count": null,
      "outputs": []
    },
    {
      "cell_type": "code",
      "source": [
        "# Get the importance of each feature in the model's predictions\n",
        "importances = model.feature_importances_\n",
        "feature_importance = pd.DataFrame({'feature': features, 'importance': importances})\n",
        "feature_importance = feature_importance.sort_values('importance', ascending=False).head(10)"
      ],
      "metadata": {
        "id": "WUuxZjXUbZSi"
      },
      "execution_count": null,
      "outputs": []
    },
    {
      "cell_type": "code",
      "source": [
        "# Create a hypothetical restaurant to get a \"suggestion\" (predicted rating)\n",
        "new_restaurant = {\n",
        "    'Average Cost for two': 300,\n",
        "    'Votes': 100,\n",
        "    'Price range': 2,\n",
        "    'Has Table booking': 1,\n",
        "    'Has Online delivery': 0\n",
        "}"
      ],
      "metadata": {
        "id": "yLkwPUlWbaAS"
      },
      "execution_count": null,
      "outputs": []
    },
    {
      "cell_type": "code",
      "source": [
        "# Add all the one-hot encoded cuisine columns...initially set to 0\n",
        "for cuisine in cuisines_dummies.columns:\n",
        "    new_restaurant[cuisine] = 0\n",
        "\n",
        "# Specify the cuisine for our hypothetical restaurant\n",
        "if 'Cuisine_North Indian' in new_restaurant:\n",
        "    new_restaurant['Cuisine_North Indian'] = 1\n",
        "\n",
        "# Convert to a DataFrame and ensure columns are in the correct order\n",
        "new_restaurant_df = pd.DataFrame([new_restaurant])\n",
        "new_restaurant_df = new_restaurant_df[features]"
      ],
      "metadata": {
        "id": "UkzGypGJbcpa"
      },
      "execution_count": null,
      "outputs": []
    },
    {
      "cell_type": "markdown",
      "source": [
        "# # Predict the rating for the new restaurant"
      ],
      "metadata": {
        "id": "ICZHeR0ceyJz"
      }
    },
    {
      "cell_type": "code",
      "source": [
        "predicted_rating = model.predict(new_restaurant_df)"
      ],
      "metadata": {
        "id": "qHOsljq4bik7"
      },
      "execution_count": null,
      "outputs": []
    },
    {
      "cell_type": "code",
      "source": [
        "# Predict the rating for the new restaurant\n",
        "predicted_rating = model.predict(new_restaurant_df)\n",
        "\n",
        "print(f\"\\n--- Suggestion Example ---\")\n",
        "print(f\"Predicted rating for the new hypothetical restaurant: {predicted_rating[0]:.2f}\")\n"
      ],
      "metadata": {
        "id": "0aTjih_Jbldy"
      },
      "execution_count": null,
      "outputs": []
    },
    {
      "cell_type": "markdown",
      "source": [
        "# Model is ready"
      ],
      "metadata": {
        "id": "VSw8e3XwfXrr"
      }
    },
    {
      "cell_type": "code",
      "source": [
        "import pandas as pd\n",
        "from sklearn.ensemble import RandomForestRegressor\n",
        "from sklearn.model_selection import train_test_split\n",
        "import ipywidgets as widgets\n",
        "from ipywidgets import interact, fixed\n",
        "\n",
        "# --- All Preprocessing and Training Code ---\n",
        "# This part is the same as before, ensuring the model is ready.\n",
        "\n",
        "def prepare_and_train_model():\n",
        "    \"\"\"A function to encapsulate all the data prep and training.\"\"\"\n",
        "    try:\n",
        "        df = pd.read_csv('zomato.csv', encoding='latin-1')\n",
        "    except UnicodeDecodeError:\n",
        "        df = pd.read_csv('zomato.csv', encoding='iso-88-59-1')\n",
        "\n",
        "    df.dropna(subset=['Cuisines'], inplace=True)\n",
        "    df['Cuisines'] = df['Cuisines'].apply(lambda x: x.split(',')[0])\n",
        "    df['Has Table booking'] = df['Has Table booking'].replace({'Yes': 1, 'No': 0})\n",
        "    df['Has Online delivery'] = df['Has Online delivery'].replace({'Yes': 1, 'No': 0})\n",
        "\n",
        "    cuisines_dummies = pd.get_dummies(df['Cuisines'], prefix='Cuisine')\n",
        "    df = pd.concat([df, cuisines_dummies], axis=1)\n",
        "\n",
        "    features = ['Average Cost for two', 'Votes', 'Price range', 'Has Table booking', 'Has Online delivery'] + list(cuisines_dummies.columns)\n",
        "    target = 'Aggregate rating'\n",
        "\n",
        "    X = df[features]\n",
        "    y = df[target]\n",
        "\n",
        "    X_train, _, y_train, _ = train_test_split(X, y, test_size=0.2, random_state=42)\n",
        "\n",
        "    model = RandomForestRegressor(n_estimators=100, random_state=42, n_jobs=-1)\n",
        "    model.fit(X_train, y_train)\n",
        "\n",
        "    return model, features, list(df['Cuisines'].unique())\n",
        "\n",
        "# Train the model and get necessary data for the UI\n",
        "model, features_list, unique_cuisines = prepare_and_train_model()\n",
        "\n",
        "\n",
        "# --- Function to Make a Prediction based on UI Input ---\n",
        "\n",
        "def get_suggestion(model, features, cuisine, cost, votes, price, booking, delivery):\n",
        "    \"\"\"Predicts rating based on interactive widget inputs.\"\"\"\n",
        "\n",
        "    # Create a dictionary for the new restaurant\n",
        "    new_restaurant = {\n",
        "        'Average Cost for two': cost,\n",
        "        'Votes': votes,\n",
        "        'Price range': price,\n",
        "        'Has Table booking': 1 if booking == 'Yes' else 0,\n",
        "        'Has Online delivery': 1 if delivery == 'Yes' else 0\n",
        "    }\n",
        "\n",
        "    # Set all cuisine features to 0 initially\n",
        "    for feature in features:\n",
        "        if feature.startswith('Cuisine_'):\n",
        "            new_restaurant[feature] = 0\n",
        "\n",
        "    # Set the selected cuisine to 1\n",
        "    selected_cuisine_feature = f\"Cuisine_{cuisine}\"\n",
        "    if selected_cuisine_feature in new_restaurant:\n",
        "        new_restaurant[selected_cuisine_feature] = 1\n",
        "\n",
        "    # Convert to DataFrame and ensure correct column order\n",
        "    new_restaurant_df = pd.DataFrame([new_restaurant])\n",
        "    new_restaurant_df = new_restaurant_df[features]\n",
        "\n",
        "    # Predict the rating and display it\n",
        "    predicted_rating = model.predict(new_restaurant_df)[0]\n",
        "    print(f\"Predicted Rating: {predicted_rating:.2f} ⭐\")\n",
        "\n",
        "\n",
        "# --- Create and Display the Interactive Widgets ---\n",
        "\n",
        "print(\"✨ Restaurant Suggestion Tool ✨\")\n",
        "print(\"Adjust the values below to see the predicted rating for your ideal restaurant.\")\n",
        "\n",
        "interact(\n",
        "    get_suggestion,\n",
        "    model=fixed(model),\n",
        "    features=fixed(features_list),\n",
        "    cuisine=widgets.Dropdown(options=sorted(unique_cuisines), description='Cuisine:'),\n",
        "    cost=widgets.IntSlider(min=0, max=8000, step=50, value=500, description='Avg Cost (for 2):'),\n",
        "    votes=widgets.IntSlider(min=0, max=10000, step=25, value=100, description='Votes:'),\n",
        "    price=widgets.IntSlider(min=1, max=4, step=1, value=2, description='Price Range:'),\n",
        "    booking=widgets.Dropdown(options=['Yes', 'No'], description='Table Booking?:'),\n",
        "    delivery=widgets.Dropdown(options=['Yes', 'No'], description='Online Delivery?:')\n",
        ");"
      ],
      "metadata": {
        "id": "jcrdwdoZcD7L"
      },
      "execution_count": null,
      "outputs": []
    },
    {
      "cell_type": "code",
      "source": [
        "import joblib\n",
        "\n",
        "# 2. Save the Trained Model to a File\n",
        "print(\"Saving model to 'model.pkl'...\")\n",
        "joblib.dump(model, 'model.pkl')\n",
        "print(\"Model saved successfully!\")"
      ],
      "metadata": {
        "id": "ujciaYu_cEkT"
      },
      "execution_count": null,
      "outputs": []
    },
    {
      "cell_type": "markdown",
      "source": [
        "# Calculate the model's performance metrics"
      ],
      "metadata": {
        "id": "88PELDTFfwVq"
      }
    },
    {
      "cell_type": "code",
      "source": [
        "# Calculate the model's performance metrics\n",
        "mae = mean_absolute_error(y_test, y_pred)\n",
        "r2 = r2_score(y_test, y_pred)\n",
        "\n",
        "print(f\"Mean Absolute Error (MAE): {mae:.2f}\")\n",
        "print(f\"R-squared (R2): {r2:.2f}\")"
      ],
      "metadata": {
        "id": "5mJbpPWGeYbz"
      },
      "execution_count": null,
      "outputs": []
    },
    {
      "cell_type": "code",
      "metadata": {
        "id": "c6ae6148"
      },
      "source": [
        "plt.figure(figsize=(8, 6))\n",
        "plt.scatter(y_test, y_pred, alpha=0.5)\n",
        "plt.plot([y_test.min(), y_test.max()], [y_test.min(), y_test.max()], 'k--', lw=2) # Add diagonal line\n",
        "plt.xlabel('Actual Rating')\n",
        "plt.ylabel('Predicted Rating')\n",
        "plt.title('Actual vs. Predicted Restaurant Ratings')\n",
        "plt.grid(True)\n",
        "plt.show()"
      ],
      "execution_count": null,
      "outputs": []
    }
  ]
}